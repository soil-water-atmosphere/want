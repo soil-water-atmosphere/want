{
 "cells": [
  {
   "cell_type": "code",
   "execution_count": 23,
   "metadata": {},
   "outputs": [],
   "source": [
    "d = []\n",
    "with open(\"matrix.csv\",\"r\", encoding=\"utf-8-sig\") as f:\n",
    "    for line in f:\n",
    "        line = line.strip()\n",
    "        d.append(line.replace(',',\"&\"))\n",
    "with open(\"Matrix.txt\",\"w\") as f:\n",
    "    for line in d:\n",
    "        f.write(\"&\"+str(line)+\"\\\\\\\\\\n\")"
   ]
  },
  {
   "cell_type": "code",
   "execution_count": null,
   "metadata": {},
   "outputs": [],
   "source": []
  }
 ],
 "metadata": {
  "kernelspec": {
   "display_name": "Python 3",
   "language": "python",
   "name": "python3"
  },
  "language_info": {
   "codemirror_mode": {
    "name": "ipython",
    "version": 3
   },
   "file_extension": ".py",
   "mimetype": "text/x-python",
   "name": "python",
   "nbconvert_exporter": "python",
   "pygments_lexer": "ipython3",
   "version": "3.6.5"
  }
 },
 "nbformat": 4,
 "nbformat_minor": 2
}
